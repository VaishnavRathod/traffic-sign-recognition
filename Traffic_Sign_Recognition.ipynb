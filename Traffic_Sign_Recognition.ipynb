{
  "nbformat": 4,
  "nbformat_minor": 0,
  "metadata": {
    "colab": {
      "name": "Traffic Sign Recognition.ipynb",
      "private_outputs": true,
      "provenance": [],
      "collapsed_sections": [],
      "authorship_tag": "ABX9TyMqmZ6foN02FrXQqJYyuWFv",
      "include_colab_link": true
    },
    "kernelspec": {
      "name": "python3",
      "display_name": "Python 3"
    },
    "language_info": {
      "name": "python"
    },
    "accelerator": "GPU"
  },
  "cells": [
    {
      "cell_type": "markdown",
      "metadata": {
        "id": "view-in-github",
        "colab_type": "text"
      },
      "source": [
        "<a href=\"https://colab.research.google.com/github/VaishnavRathod/traffic-sign-recognition/blob/main/Traffic_Sign_Recognition.ipynb\" target=\"_parent\"><img src=\"https://colab.research.google.com/assets/colab-badge.svg\" alt=\"Open In Colab\"/></a>"
      ]
    },
    {
      "cell_type": "code",
      "execution_count": null,
      "metadata": {
        "id": "L77HKyj4T8VI"
      },
      "outputs": [],
      "source": [
        "!git clone https://bitbucket.org/jadslim/german-traffic-signs/src/master/"
      ]
    },
    {
      "cell_type": "code",
      "source": [
        "import numpy as np\n",
        "import pandas as pd\n",
        "import cv2 as cv\n",
        "import pickle\n",
        "import matplotlib.pyplot as plt\n",
        "import math\n",
        "\n",
        "from keras.preprocessing.image import ImageDataGenerator\n",
        "from tensorflow.keras.utils import to_categorical\n",
        "from keras.layers import Conv2D, Dense, Dropout, Flatten, MaxPooling2D\n",
        "from keras.models import Sequential"
      ],
      "metadata": {
        "id": "Mxtqrhz-Uwqr"
      },
      "execution_count": null,
      "outputs": []
    },
    {
      "cell_type": "code",
      "source": [
        "# Loading dataset\n",
        "\n",
        "with open('master/train.p', 'rb') as fd:\n",
        "  train_data = pickle.load(fd)\n",
        "\n",
        "with open('master/test.p', 'rb') as fd:\n",
        "  test_data = pickle.load(fd)\n",
        "\n",
        "with open('master/valid.p', 'rb') as fd:\n",
        "  val_data = pickle.load(fd)\n",
        "\n",
        "print(\"Train data : \", train_data['features'].shape[0])\n",
        "print(\"Test data  : \", test_data['features'].shape[0])\n",
        "print(\"Valid data : \", val_data['features'].shape[0])"
      ],
      "metadata": {
        "id": "qlTouDmjVVKL"
      },
      "execution_count": null,
      "outputs": []
    },
    {
      "cell_type": "code",
      "source": [
        "def preprocessing(img):\n",
        "  img = cv.cvtColor(img, cv.COLOR_BGR2GRAY)\n",
        "  img = cv.equalizeHist(img)\n",
        "  img = img/255. \n",
        "  \n",
        "  return img"
      ],
      "metadata": {
        "id": "B6x6ICnFXFGE"
      },
      "execution_count": null,
      "outputs": []
    },
    {
      "cell_type": "code",
      "source": [
        "# Dataset split into train test valid and preprocessing it\n",
        "\n",
        "x_train = train_data['features']\n",
        "y_train = train_data['labels']\n",
        "\n",
        "x_test  = test_data['features']\n",
        "y_test  = test_data['labels']\n",
        "\n",
        "x_val   = val_data['features']\n",
        "y_val   = val_data['labels']\n",
        "\n",
        "x_train = np.array(list(map(preprocessing, x_train)))\n",
        "x_test  = np.array(list(map(preprocessing, x_test)))\n",
        "x_val   = np.array(list(map(preprocessing, x_val)))\n",
        "\n",
        "x_train = np.reshape(x_train, (len(x_train), 32,32,1))\n",
        "x_test  = np.reshape(x_test, (len(x_test)  , 32,32,1))\n",
        "x_val   = np.reshape(x_val, (len(x_val)    , 32,32,1))\n"
      ],
      "metadata": {
        "id": "jMgHwKbVaiae"
      },
      "execution_count": null,
      "outputs": []
    },
    {
      "cell_type": "code",
      "source": [
        "x_train.shape"
      ],
      "metadata": {
        "id": "MzpM9xyEOmVo"
      },
      "execution_count": null,
      "outputs": []
    },
    {
      "cell_type": "code",
      "source": [
        "# Image augmentation for more variety of Images\n",
        "\n",
        "train_datagen = ImageDataGenerator(width_shift_range=0.1,\n",
        "                                   height_shift_range=0.1,\n",
        "                                   zoom_range=0.1,\n",
        "                                   shear_range=0.1,\n",
        "                                   rotation_range=10)"
      ],
      "metadata": {
        "id": "8Gnxb91tbq8w"
      },
      "execution_count": null,
      "outputs": []
    },
    {
      "cell_type": "code",
      "source": [
        "# Converting labels dataset into ONE HOT ENCODED format\n",
        "y_train = to_categorical(y_train, 43)\n",
        "y_test  = to_categorical(y_test, 43)\n",
        "y_val   = to_categorical(y_val, 43)\n"
      ],
      "metadata": {
        "id": "zg-pcQ0zcFsB"
      },
      "execution_count": null,
      "outputs": []
    },
    {
      "cell_type": "code",
      "source": [
        "y_train"
      ],
      "metadata": {
        "id": "W1QzsooGtPA5"
      },
      "execution_count": null,
      "outputs": []
    },
    {
      "cell_type": "code",
      "source": [
        "def create_model():\n",
        "  model = Sequential()\n",
        "\n",
        "  model.add(Conv2D(60, (5,5), input_shape = (32,32,1), activation='relu'))\n",
        "  model.add(Conv2D(60, (5,5), activation='relu'))\n",
        "  model.add(MaxPooling2D(pool_size=(2,2)))\n",
        "\n",
        "  model.add(Conv2D(30, (3,3), activation='relu'))\n",
        "  model.add(Conv2D(30, (3,3), activation='relu'))\n",
        "  model.add(MaxPooling2D(pool_size=(2,2)))\n",
        "\n",
        "  model.add(Flatten())\n",
        "\n",
        "  model.add(Dense(500, activation='relu'))\n",
        "  model.add(Dropout(0.5))\n",
        "\n",
        "  model.add(Dense(43, activation='softmax'))\n",
        "\n",
        "  model.compile(optimizer='adam', loss='categorical_crossentropy', metrics=['accuracy'])\n",
        "\n",
        "  return model\n",
        "\n",
        "model = create_model()"
      ],
      "metadata": {
        "id": "dozEPixyRhYx"
      },
      "execution_count": null,
      "outputs": []
    },
    {
      "cell_type": "code",
      "source": [
        "model.fit_generator(train_datagen.flow(x_train, y_train, batch_size=64),\n",
        "                    steps_per_epoch=540, \n",
        "                    epochs= 10, \n",
        "                    validation_data= (x_val,y_val),\n",
        "                    shuffle=True)"
      ],
      "metadata": {
        "id": "R1Sk3wAKVsVc"
      },
      "execution_count": null,
      "outputs": []
    },
    {
      "cell_type": "code",
      "source": [
        "hist = model.history.history"
      ],
      "metadata": {
        "id": "d6gN_iPnfLpb"
      },
      "execution_count": null,
      "outputs": []
    },
    {
      "cell_type": "code",
      "source": [
        "hist['accuracy']"
      ],
      "metadata": {
        "id": "OD8HcCuVfQrd"
      },
      "execution_count": null,
      "outputs": []
    },
    {
      "cell_type": "code",
      "source": [
        "plt.plot(hist['accuracy'])\n",
        "plt.plot(hist['val_accuracy'])\n",
        "\n",
        "plt.legend(['Training', 'Validation'])\n",
        "plt.grid(True)\n",
        "\n",
        "plt.title('Accuracy per Epoch')\n",
        "plt.xlabel('Epochs')\n",
        "plt.ylabel('Accuracy')\n",
        "\n",
        "plt.show()"
      ],
      "metadata": {
        "id": "SLhTKkekVvPW"
      },
      "execution_count": null,
      "outputs": []
    },
    {
      "cell_type": "code",
      "source": [
        "plt.plot(hist['loss'])\n",
        "plt.plot(hist['val_loss'])\n",
        "\n",
        "plt.legend(['Training', 'Validation'])\n",
        "plt.grid(True)\n",
        "\n",
        "plt.title('Loss per Epoch')\n",
        "plt.xlabel('Epochs')\n",
        "plt.ylabel('Loss')\n",
        "\n",
        "plt.show()"
      ],
      "metadata": {
        "id": "sTcBKwQ5fc5X"
      },
      "execution_count": null,
      "outputs": []
    },
    {
      "cell_type": "code",
      "source": [
        "score = model.evaluate(x_test, y_test)"
      ],
      "metadata": {
        "id": "8kmLb0Rlg_2L"
      },
      "execution_count": null,
      "outputs": []
    },
    {
      "cell_type": "code",
      "source": [
        "print('Testing Accuracy is :', str(score[1]*100)[:5] + '%')"
      ],
      "metadata": {
        "id": "nj3og2T8hNH0"
      },
      "execution_count": null,
      "outputs": []
    },
    {
      "cell_type": "code",
      "source": [
        "model.save('10_Epochs.h5')"
      ],
      "metadata": {
        "id": "JcgONaaOhi0i"
      },
      "execution_count": null,
      "outputs": []
    },
    {
      "cell_type": "code",
      "source": [
        ""
      ],
      "metadata": {
        "id": "CFIhLL9vhve5"
      },
      "execution_count": null,
      "outputs": []
    }
  ]
}